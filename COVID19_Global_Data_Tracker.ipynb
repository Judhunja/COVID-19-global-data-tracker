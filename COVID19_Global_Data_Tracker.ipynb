{
 "cells": [
  {
   "cell_type": "markdown",
   "metadata": {},
   "source": [
    "# COVID-19 Global Data Tracker\n",
    "This Jupyter Notebook tracks global COVID-19 trends by analyzing cases, deaths, recoveries, and vaccinations across countries and time.\n",
    "It includes data cleaning, exploratory data analysis (EDA), visualizations, and narrative insights."
   ]
  },
  {
   "cell_type": "markdown",
   "metadata": {},
   "source": [
    "## 1. Data Collection\n",
    "We use the cleaned COVID-19 dataset from Our World in Data (owid-covid-data.csv).\n",
    "Make sure the CSV file is saved in the working directory."
   ]
  },
  {
   "cell_type": "code",
   "execution_count": null,
   "metadata": {},
   "outputs": [],
   "source": [
    "import pandas as pd\n",
    "import matplotlib.pyplot as plt\n",
    "import seaborn as sns\n",
    "import numpy as np\n",
    "import plotly.express as px\n",
    "\n",
    "# Load the dataset\n",
    "df = pd.read_csv('owid-covid-data.csv')\n",
    "df.head()"
   ]
  },
  {
   "cell_type": "markdown",
   "metadata": {},
   "source": [
    "## 2. Data Loading & Exploration\n",
    "Explore the dataset structure and check for missing values."
   ]
  },
  {
   "cell_type": "code",
   "execution_count": null,
   "metadata": {},
   "outputs": [],
   "source": [
    "# Check columns\n",
    "print(df.columns)\n",
    "\n",
    "# Preview rows\n",
    "df.head()\n",
    "\n",
    "# Identify missing values\n",
    "df.isnull().sum()"
   ]
  },
  {
   "cell_type": "markdown",
   "metadata": {},
   "source": [
    "## 3. Data Cleaning\n",
    "Filter countries of interest and clean the data for analysis."
   ]
  },
  {
   "cell_type": "code",
   "execution_count": null,
   "metadata": {},
   "outputs": [],
   "source": [
    "# Select countries of interest\n",
    "countries = ['Kenya', 'USA', 'India']\n",
    "df_countries = df[df['location'].isin(countries)].copy()\n",
    "\n",
    "# Drop rows with missing dates or critical values\n",
    "df_countries.dropna(subset=['date', 'total_cases', 'total_deaths'], inplace=True)\n",
    "\n",
    "# Convert date column to datetime\n",
    "df_countries['date'] = pd.to_datetime(df_countries['date'])\n",
    "\n",
    "# Fill missing numeric values with interpolation\n",
    "df_countries.sort_values(['location', 'date'], inplace=True)\n",
    "df_countries['total_cases'] = df_countries.groupby('location')['total_cases'].apply(lambda x: x.interpolate())\n",
    "df_countries['total_deaths'] = df_countries.groupby('location')['total_deaths'].apply(lambda x: x.interpolate())\n",
    "df_countries['total_vaccinations'] = df_countries.groupby('location')['total_vaccinations'].apply(lambda x: x.interpolate())\n",
    "\n",
    "df_countries.head()"
   ]
  },
  {
   "cell_type": "markdown",
   "metadata": {},
   "source": [
    "## 4. Exploratory Data Analysis (EDA)\n",
    "Analyze and visualize COVID-19 cases and deaths over time."
   ]
  },
  {
   "cell_type": "code",
   "execution_count": null,
   "metadata": {},
   "outputs": [],
   "source": [
    "# Plot total cases over time for selected countries\n",
    "plt.figure(figsize=(12, 6))\n",
    "sns.lineplot(data=df_countries, x='date', y='total_cases', hue='location')\n",
    "plt.title('Total COVID-19 Cases Over Time')\n",
    "plt.ylabel('Total Cases')\n",
    "plt.xlabel('Date')\n",
    "plt.legend(title='Country')\n",
    "plt.show()\n",
    "\n",
    "# Plot total deaths over time\n",
    "plt.figure(figsize=(12, 6))\n",
    "sns.lineplot(data=df_countries, x='date', y='total_deaths', hue='location')\n",
    "plt.title('Total COVID-19 Deaths Over Time')\n",
    "plt.ylabel('Total Deaths')\n",
    "plt.xlabel('Date')\n",
    "plt.legend(title='Country')\n",
    "plt.show()\n",
    "\n",
    "# Compare daily new cases between countries\n",
    "plt.figure(figsize=(12, 6))\n",
    "sns.lineplot(data=df_countries, x='date', y='new_cases', hue='location')\n",
    "plt.title('Daily New COVID-19 Cases')\n",
    "plt.ylabel('New Cases')\n",
    "plt.xlabel('Date')\n",
    "plt.legend(title='Country')\n",
    "plt.show()\n",
    "\n",
    "# Calculate death rate and plot\n",
    "df_countries['death_rate'] = df_countries['total_deaths'] / df_countries['total_cases']\n",
    "plt.figure(figsize=(12, 6))\n",
    "sns.lineplot(data=df_countries, x='date', y='death_rate', hue='location')\n",
    "plt.title('COVID-19 Death Rate Over Time')\n",
    "plt.ylabel('Death Rate')\n",
    "plt.xlabel('Date')\n",
    "plt.legend(title='Country')\n",
    "plt.show()"
   ]
  },
  {
   "cell_type": "markdown",
   "metadata": {},
   "source": [
    "## 5. Visualizing Vaccination Progress\n",
    "Analyze vaccination rollouts and compare vaccination coverage."
   ]
  },
  {
   "cell_type": "code",
   "execution_count": null,
   "metadata": {},
   "outputs": [],
   "source": [
    "# Plot cumulative vaccinations over time\n",
    "plt.figure(figsize=(12, 6))\n",
    "sns.lineplot(data=df_countries, x='date', y='total_vaccinations', hue='location')\n",
    "plt.title('Cumulative COVID-19 Vaccinations Over Time')\n",
    "plt.ylabel('Total Vaccinations')\n",
    "plt.xlabel('Date')\n",
    "plt.legend(title='Country')\n",
    "plt.show()"
   ]
  },
  {
   "cell_type": "markdown",
   "metadata": {},
   "source": [
    "## 6. Optional: Build a Choropleth Map\n",
    "Visualize case density or vaccination rates by country on a world map."
   ]
  },
  {
   "cell_type": "code",
   "execution_count": null,
   "metadata": {},
   "outputs": [],
   "source": [
    "# Prepare latest data for choropleth\n",
    "latest_date = df['date'].max()\n",
    "df_latest = df[df['date'] == latest_date]  # latest date data\n",
    "\n",
    "fig = px.choropleth(df_latest, locations='iso_code', color='total_cases',\n",
    "                    hover_name='location',\n",
    "                    color_continuous_scale='Reds',\n",
    "                    title='Global COVID-19 Total Cases as of ' + latest_date)\n",
    "fig.show()"
   ]
  },
  {
   "cell_type": "markdown",
   "metadata": {},
   "source": [
    "## 7. Insights & Reporting\n",
    "Key insights and observations from the data analysis."
   ]
  },
  {
   "cell_type": "markdown",
   "metadata": {},
   "source": [
    "### Key Insights:\n",
    "- USA has had the highest total cases and deaths among the selected countries.\n",
    "- India experienced large waves of new cases with significant death tolls.\n",
    "- Kenya shows lower total cases and deaths but vaccination progress is slower compared to USA and India.\n",
    "- Death rate trends indicate fluctuations likely due to reporting and healthcare factors.\n",
    "- Vaccination rollouts have varied significantly across countries, impacting case trends.\n",
    "\n",
    "### Anomalies and Patterns:\n",
    "- Sudden spikes in new cases may correspond to variant outbreaks or reporting changes.\n",
    "- Some missing data points were interpolated to maintain trend continuity.\n",
    "- Vaccination data is less complete for some countries, affecting analysis accuracy."
   ]
  }
 ],
 "metadata": {
  "kernelspec": {
   "display_name": "Python 3",
   "language": "python",
   "name": "python3"
  },
  "language_info": {
   "codemirror_mode": {
    "name": "ipython",
    "version": 3
   },
   "file_extension": ".py",
   "mimetype": "text/x-python",
   "name": "python",
   "nbconvert_exporter": "python",
   "pygments_lexer": "ipython3",
   "version": "3.8.10"
  }
 },
 "nbformat": 4,
 "nbformat_minor": 5
}
